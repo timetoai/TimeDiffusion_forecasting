{
 "cells": [
  {
   "cell_type": "code",
   "execution_count": 1,
   "metadata": {},
   "outputs": [],
   "source": [
    "from collections import defaultdict\n",
    "from pathlib import Path\n",
    "from tqdm import tqdm\n",
    "import matplotlib.pyplot as plt\n",
    "\n",
    "import numpy as np\n",
    "import pandas as pd\n",
    "# import torch\n",
    "\n",
    "from utils.data import pickle_load, DimUniversalMinMaxScaler, DimUniversalStandardScaler, get_exchange_rate_dataset, get_ett_dataset, get_etl_dataset\n",
    "from utils.metrics import MAE_numpy as MAE, MSE_numpy as MSE, MAPE_numpy as MAPE\n",
    "# from utils.timediffusion import train_forecast\n",
    "\n",
    "\n",
    "results_dir, data_dir = Path(\"results\"), Path(\"data\")\n",
    "epochs, steps_per_epoch = 4, 16\n",
    "horizons = [96, 192, 336, 720]\n",
    "# get_lags = lambda h: h * 5 if h < 500 else h * 2\n",
    "train_part = 0.7\n",
    "test_size = 0.2\n",
    "# device = torch.device('cuda:0' if torch.cuda.is_available() else 'cpu')\n",
    "# print(device)"
   ]
  },
  {
   "cell_type": "code",
   "execution_count": 2,
   "metadata": {},
   "outputs": [],
   "source": [
    "results = []\n",
    "for horizon in horizons:\n",
    "    results.append([])\n",
    "    for ts_id in range(8):\n",
    "        results[- 1].append(pickle_load(results_dir / f\"Exchange/ts{ts_id}_horizon{horizon}.pkl\"))\n",
    "\n",
    "mm_scalers = []\n",
    "s_scalers = []\n",
    "for ts_id, ts in enumerate(get_exchange_rate_dataset(data_dir / \"exchange_rate.txt\")):\n",
    "    ts = ts[:int(train_part * len(ts))]\n",
    "    mm_scalers.append(DimUniversalMinMaxScaler())\n",
    "    s_scalers.append(DimUniversalStandardScaler())\n",
    "    mm_scalers[- 1].fit(ts)\n",
    "    s_scalers[- 1].fit(ts)"
   ]
  },
  {
   "cell_type": "code",
   "execution_count": 3,
   "metadata": {},
   "outputs": [
    {
     "data": {
      "image/png": "[encoded data removed]",
      "text/plain": [
       "<Figure size 432x288 with 1 Axes>"
      ]
     },
     "metadata": {
      "needs_background": "light"
     },
     "output_type": "display_data"
    },
    {
     "name": "stdout",
     "output_type": "stream",
     "text": [
      "mae=0.013415200910409292, mse=0.0002504013795110671\n",
      "mae_snorm=0.13010106529059776, mse_snorm=0.023550705279107857\n",
      "mae_mmnorm=0.027120413726221176, mse_mmnorm=0.0010233757371734167\n"
     ]
    }
   ],
   "source": [
    "horizon_id = 0\n",
    "ts_id = 0\n",
    "sample_id = 3\n",
    "\n",
    "y_true = results[horizon_id][ts_id]['y'][sample_id]\n",
    "preds = results[horizon_id][ts_id]['preds'][sample_id]\n",
    "\n",
    "plt.plot(y_true)\n",
    "plt.plot(preds)\n",
    "plt.legend([\"true\", \"pred\"])\n",
    "plt.show()\n",
    "\n",
    "mae = MAE(preds, y_true)\n",
    "mse = MSE(preds, y_true)\n",
    "print(f\"{mae=}, {mse=}\")\n",
    "\n",
    "preds_snorm, y_true_snorm = map(s_scalers[ts_id].transform, (preds, y_true))\n",
    "mae_snorm = MAE(preds_snorm, y_true_snorm)\n",
    "mse_snorm = MSE(preds_snorm, y_true_snorm)\n",
    "print(f\"{mae_snorm=}, {mse_snorm=}\")\n",
    "\n",
    "preds_mmnorm, y_true_mmnorm = map(mm_scalers[ts_id].transform, (preds, y_true))\n",
    "mae_mmnorm = MAE(preds_mmnorm, y_true_mmnorm)\n",
    "mse_mmnorm = MSE(preds_mmnorm, y_true_mmnorm)\n",
    "print(f\"{mae_mmnorm=}, {mse_mmnorm=}\")"
   ]
  },
  {
   "cell_type": "code",
   "execution_count": 4,
   "metadata": {},
   "outputs": [
    {
     "name": "stdout",
     "output_type": "stream",
     "text": [
      "horizon=96\n",
      "\tMAE_Pure=0.023 MSE_Pure=0.002\n",
      "\tMAE_StandardScaler=0.253 MSE_StandardScaler=0.130\n",
      "\tMAE_MinMaxScaler=0.056 MSE_MinMaxScaler=0.006\n",
      "\tMAPE=0.031103243081349506\n",
      "horizon=192\n",
      "\tMAE_Pure=0.038 MSE_Pure=0.003\n",
      "\tMAE_StandardScaler=0.424 MSE_StandardScaler=0.313\n",
      "\tMAE_MinMaxScaler=0.094 MSE_MinMaxScaler=0.015\n",
      "\tMAPE=0.04971580418220564\n",
      "horizon=336\n",
      "\tMAE_Pure=0.038 MSE_Pure=0.004\n",
      "\tMAE_StandardScaler=0.476 MSE_StandardScaler=0.458\n",
      "\tMAE_MinMaxScaler=0.103 MSE_MinMaxScaler=0.020\n",
      "\tMAPE=0.055301512046388696\n",
      "horizon=720\n",
      "\tMAE_Pure=0.061 MSE_Pure=0.008\n",
      "\tMAE_StandardScaler=0.804 MSE_StandardScaler=1.122\n",
      "\tMAE_MinMaxScaler=0.173 MSE_MinMaxScaler=0.049\n",
      "\tMAPE=0.09420433691813945\n"
     ]
    },
    {
     "data": {
      "text/html": [
       "<div>\n",
       "<style scoped>\n",
       "    .dataframe tbody tr th:only-of-type {\n",
       "        vertical-align: middle;\n",
       "    }\n",
       "\n",
       "    .dataframe tbody tr th {\n",
       "        vertical-align: top;\n",
       "    }\n",
       "\n",
       "    .dataframe thead th {\n",
       "        text-align: right;\n",
       "    }\n",
       "</style>\n",
       "<table border=\"1\" class=\"dataframe\">\n",
       "  <thead>\n",
       "    <tr style=\"text-align: right;\">\n",
       "      <th></th>\n",
       "      <th>mae</th>\n",
       "      <th>mse</th>\n",
       "      <th>horizon</th>\n",
       "    </tr>\n",
       "  </thead>\n",
       "  <tbody>\n",
       "    <tr>\n",
       "      <th>0</th>\n",
       "      <td>0.253010</td>\n",
       "      <td>0.129695</td>\n",
       "      <td>96</td>\n",
       "    </tr>\n",
       "    <tr>\n",
       "      <th>1</th>\n",
       "      <td>0.423549</td>\n",
       "      <td>0.313481</td>\n",
       "      <td>192</td>\n",
       "    </tr>\n",
       "    <tr>\n",
       "      <th>2</th>\n",
       "      <td>0.475845</td>\n",
       "      <td>0.458041</td>\n",
       "      <td>336</td>\n",
       "    </tr>\n",
       "    <tr>\n",
       "      <th>3</th>\n",
       "      <td>0.804342</td>\n",
       "      <td>1.121745</td>\n",
       "      <td>720</td>\n",
       "    </tr>\n",
       "  </tbody>\n",
       "</table>\n",
       "</div>"
      ],
      "text/plain": [
       "        mae       mse  horizon\n",
       "0  0.253010  0.129695       96\n",
       "1  0.423549  0.313481      192\n",
       "2  0.475845  0.458041      336\n",
       "3  0.804342  1.121745      720"
      ]
     },
     "execution_count": 4,
     "metadata": {},
     "output_type": "execute_result"
    }
   ],
   "source": [
    "preprocess_funcs_names = [\"Pure\", \"StandardScaler\", \"MinMaxScaler\"]\n",
    "metrics = [MAE, MSE, MAPE]\n",
    "result = []\n",
    "\n",
    "for horizon_id, horizon in enumerate(horizons):\n",
    "    ds_metrics = defaultdict(list)\n",
    "    for ts_id in range(8):\n",
    "        preprocess_funcs = [lambda x: x, s_scalers[ts_id].transform, mm_scalers[ts_id].transform]\n",
    "        for pfunc, pfunc_name in zip(preprocess_funcs, preprocess_funcs_names):\n",
    "            for mid, metric in enumerate(metrics):\n",
    "                ds_metrics[f\"{metric.__name__}_{pfunc_name}\"].append(\n",
    "                    metric(pfunc(results[horizon_id][ts_id][\"preds\"]), pfunc(results[horizon_id][ts_id][\"y\"]))\n",
    "                    )\n",
    "    ds_metrics = {key: np.mean(value) for key, value in ds_metrics.items()}\n",
    "    result.append((ds_metrics[\"MAE_numpy_StandardScaler\"], ds_metrics[\"MSE_numpy_StandardScaler\"], horizon))\n",
    "\n",
    "    print(f\"{horizon=}\")\n",
    "    for pfunc_name in preprocess_funcs_names:\n",
    "        print(f\"\\tMAE_{pfunc_name}={ds_metrics[f'MAE_numpy_{pfunc_name}']:0.3f} MSE_{pfunc_name}={ds_metrics[f'MSE_numpy_{pfunc_name}']:0.3f}\")\n",
    "    print(f\"\\tMAPE={ds_metrics['MAPE_numpy_Pure']}\")\n",
    "\n",
    "result = pd.DataFrame(result, columns=[\"mae\", \"mse\", \"horizon\"])\n",
    "res_path = Path(results_dir / \"Exchange\" / \"TD_Exchange_norm.csv\")\n",
    "if not res_path.exists():\n",
    "    result.to_csv(res_path, index=False)\n",
    "result"
   ]
  },
  {
   "attachments": {},
   "cell_type": "markdown",
   "metadata": {},
   "source": [
    "ETL"
   ]
  },
  {
   "cell_type": "code",
   "execution_count": 5,
   "metadata": {},
   "outputs": [
    {
     "name": "stderr",
     "output_type": "stream",
     "text": [
      "c:\\Users\\Владислав\\Учеба\\Магистратура\\time-series\\project\\utils\\data.py:80: DtypeWarning: Columns (1,2,3,4,5,6,7,8,9,10,11,12,13,14,15,16,17,18,19,20,21,22,23,24,25,26,27,28,29,30,31,32,33,34,35,36,37,38,39,40,41,42,43,44,45,46,47,48,49,50,51,52,53,54,55,56,57,58,59,60,61,62,63,64,65,66,67,68,69,70,71,72,73,74,75,76,77,78,79,80,81,82,83,84,85,86,87,88,89,90,91,92,93,94,95,96,97,98,99,100,101,102,103,104,105,106,107,108,109,110,111,112,113,114,115,116,117,118,119,120,121,122,123,125,126,127,128,129,130,131,133,134,135,136,137,138,139,140,141,142,143,144,145,146,147,148,149,150,151,152,153,154,155,157,160,164,165,167,170,173,177,178,179,181,184,185,186,223,224,255,280,289,305,308,322,332,333,334,335,336,337,338,339,340,341,342,343,344,345,346,347,348,349,350,351,352,353,354,355,356,357,358,359,360,361,363,364,365,366,367,368,369,370) have mixed types. Specify dtype option on import or set low_memory=False.\n",
      "  df = pd.read_csv(filepath, sep=\";\", usecols=[f\"MT_{i:0>3}\" for i in range(1, 371)])\n"
     ]
    }
   ],
   "source": [
    "results = []\n",
    "for horizon in horizons:\n",
    "    results.append([])\n",
    "    for ts_id in range(8):\n",
    "        results[- 1].append(pickle_load(results_dir / f\"ETL/ts{ts_id}_horizon{horizon}.pkl\"))\n",
    "\n",
    "mm_scalers = []\n",
    "s_scalers = []\n",
    "for ts_id, ts in enumerate(get_etl_dataset(data_dir / \"LD2011_2014.txt\")):\n",
    "    ts = ts[:int(train_part * len(ts))]\n",
    "    mm_scalers.append(DimUniversalMinMaxScaler())\n",
    "    s_scalers.append(DimUniversalStandardScaler())\n",
    "    mm_scalers[- 1].fit(ts)\n",
    "    s_scalers[- 1].fit(ts)\n",
    "    if ts_id == 7:\n",
    "        break"
   ]
  },
  {
   "cell_type": "code",
   "execution_count": 6,
   "metadata": {},
   "outputs": [
    {
     "data": {
      "image/png": "[encoded data removed]",
      "text/plain": [
       "<Figure size 432x288 with 1 Axes>"
      ]
     },
     "metadata": {
      "needs_background": "light"
     },
     "output_type": "display_data"
    },
    {
     "name": "stdout",
     "output_type": "stream",
     "text": [
      "mae=1.307511922588504, mse=3.340929116747791\n",
      "mae_snorm=0.19262630235053554, mse_snorm=0.07251153760070868\n",
      "mae_mmnorm=0.011418394832129641, mse_mmnorm=0.0002547921761552696\n"
     ]
    }
   ],
   "source": [
    "horizon_id = 0\n",
    "ts_id = 1\n",
    "sample_id = 0\n",
    "\n",
    "y_true = results[horizon_id][ts_id]['y'][sample_id]\n",
    "preds = results[horizon_id][ts_id]['preds'][sample_id]\n",
    "\n",
    "plt.plot(y_true)\n",
    "plt.plot(preds)\n",
    "plt.legend([\"true\", \"pred\"])\n",
    "plt.show()\n",
    "\n",
    "mae = MAE(preds, y_true)\n",
    "mse = MSE(preds, y_true)\n",
    "print(f\"{mae=}, {mse=}\")\n",
    "\n",
    "preds_snorm, y_true_snorm = map(s_scalers[ts_id].transform, (preds, y_true))\n",
    "mae_snorm = MAE(preds_snorm, y_true_snorm)\n",
    "mse_snorm = MSE(preds_snorm, y_true_snorm)\n",
    "print(f\"{mae_snorm=}, {mse_snorm=}\")\n",
    "\n",
    "preds_mmnorm, y_true_mmnorm = map(mm_scalers[ts_id].transform, (preds, y_true))\n",
    "mae_mmnorm = MAE(preds_mmnorm, y_true_mmnorm)\n",
    "mse_mmnorm = MSE(preds_mmnorm, y_true_mmnorm)\n",
    "print(f\"{mae_mmnorm=}, {mse_mmnorm=}\")"
   ]
  },
  {
   "cell_type": "code",
   "execution_count": 7,
   "metadata": {},
   "outputs": [
    {
     "name": "stdout",
     "output_type": "stream",
     "text": [
      "horizon=96\n",
      "\tMAE_Pure=19.669 MSE_Pure=1500.031\n",
      "\tMAE_StandardScaler=0.493 MSE_StandardScaler=0.621\n",
      "\tMAE_MinMaxScaler=0.057 MSE_MinMaxScaler=0.009\n",
      "\tMAPE=11497629.986651916\n",
      "horizon=192\n",
      "\tMAE_Pure=22.791 MSE_Pure=2200.321\n",
      "\tMAE_StandardScaler=0.548 MSE_StandardScaler=0.876\n",
      "\tMAE_MinMaxScaler=0.064 MSE_MinMaxScaler=0.012\n",
      "\tMAPE=24411293.91400528\n",
      "horizon=336\n",
      "\tMAE_Pure=26.532 MSE_Pure=2722.792\n",
      "\tMAE_StandardScaler=0.621 MSE_StandardScaler=0.997\n",
      "\tMAE_MinMaxScaler=0.071 MSE_MinMaxScaler=0.013\n",
      "\tMAPE=45756509.956619814\n",
      "horizon=720\n",
      "\tMAE_Pure=20.458 MSE_Pure=1719.505\n",
      "\tMAE_StandardScaler=0.534 MSE_StandardScaler=0.738\n",
      "\tMAE_MinMaxScaler=0.060 MSE_MinMaxScaler=0.010\n",
      "\tMAPE=43817625.00024779\n"
     ]
    },
    {
     "data": {
      "text/html": [
       "<div>\n",
       "<style scoped>\n",
       "    .dataframe tbody tr th:only-of-type {\n",
       "        vertical-align: middle;\n",
       "    }\n",
       "\n",
       "    .dataframe tbody tr th {\n",
       "        vertical-align: top;\n",
       "    }\n",
       "\n",
       "    .dataframe thead th {\n",
       "        text-align: right;\n",
       "    }\n",
       "</style>\n",
       "<table border=\"1\" class=\"dataframe\">\n",
       "  <thead>\n",
       "    <tr style=\"text-align: right;\">\n",
       "      <th></th>\n",
       "      <th>mae</th>\n",
       "      <th>mse</th>\n",
       "      <th>horizon</th>\n",
       "    </tr>\n",
       "  </thead>\n",
       "  <tbody>\n",
       "    <tr>\n",
       "      <th>0</th>\n",
       "      <td>0.492761</td>\n",
       "      <td>0.621450</td>\n",
       "      <td>96</td>\n",
       "    </tr>\n",
       "    <tr>\n",
       "      <th>1</th>\n",
       "      <td>0.548434</td>\n",
       "      <td>0.875608</td>\n",
       "      <td>192</td>\n",
       "    </tr>\n",
       "    <tr>\n",
       "      <th>2</th>\n",
       "      <td>0.621120</td>\n",
       "      <td>0.997171</td>\n",
       "      <td>336</td>\n",
       "    </tr>\n",
       "    <tr>\n",
       "      <th>3</th>\n",
       "      <td>0.533593</td>\n",
       "      <td>0.737614</td>\n",
       "      <td>720</td>\n",
       "    </tr>\n",
       "  </tbody>\n",
       "</table>\n",
       "</div>"
      ],
      "text/plain": [
       "        mae       mse  horizon\n",
       "0  0.492761  0.621450       96\n",
       "1  0.548434  0.875608      192\n",
       "2  0.621120  0.997171      336\n",
       "3  0.533593  0.737614      720"
      ]
     },
     "execution_count": 7,
     "metadata": {},
     "output_type": "execute_result"
    }
   ],
   "source": [
    "preprocess_funcs_names = [\"Pure\", \"StandardScaler\", \"MinMaxScaler\"]\n",
    "metrics = [MAE, MSE, MAPE]\n",
    "result = []\n",
    "\n",
    "for horizon_id, horizon in enumerate(horizons):\n",
    "    ds_metrics = defaultdict(list)\n",
    "    for ts_id in range(8):\n",
    "        preprocess_funcs = [lambda x: x, s_scalers[ts_id].transform, mm_scalers[ts_id].transform]\n",
    "        for pfunc, pfunc_name in zip(preprocess_funcs, preprocess_funcs_names):\n",
    "            for mid, metric in enumerate(metrics):\n",
    "                ds_metrics[f\"{metric.__name__}_{pfunc_name}\"].append(\n",
    "                    metric(pfunc(results[horizon_id][ts_id][\"preds\"]), pfunc(results[horizon_id][ts_id][\"y\"]))\n",
    "                    )\n",
    "    ds_metrics = {key: np.mean(value) for key, value in ds_metrics.items()}\n",
    "    result.append((ds_metrics[\"MAE_numpy_StandardScaler\"], ds_metrics[\"MSE_numpy_StandardScaler\"], horizon))\n",
    "    print(f\"{horizon=}\")\n",
    "    for pfunc_name in preprocess_funcs_names:\n",
    "        print(f\"\\tMAE_{pfunc_name}={ds_metrics[f'MAE_numpy_{pfunc_name}']:0.3f} MSE_{pfunc_name}={ds_metrics[f'MSE_numpy_{pfunc_name}']:0.3f}\")\n",
    "    print(f\"\\tMAPE={ds_metrics['MAPE_numpy_Pure']}\")\n",
    "\n",
    "result = pd.DataFrame(result, columns=[\"mae\", \"mse\", \"horizon\"])\n",
    "res_path = Path(results_dir / \"ETL\" / \"TD_ETL_norm.csv\")\n",
    "if not res_path.exists():\n",
    "    result.to_csv(res_path, index=False)\n",
    "result"
   ]
  },
  {
   "attachments": {},
   "cell_type": "markdown",
   "metadata": {},
   "source": [
    "ETT"
   ]
  },
  {
   "cell_type": "code",
   "execution_count": 11,
   "metadata": {},
   "outputs": [],
   "source": [
    "results = []\n",
    "for horizon in horizons:\n",
    "    results.append([])\n",
    "    for ts_id in range(7):\n",
    "        results[- 1].append(pickle_load(results_dir / f\"ETT/ts{ts_id}_horizon{horizon}.pkl\"))\n",
    "\n",
    "mm_scalers = []\n",
    "s_scalers = []\n",
    "for ts_id, ts in enumerate(get_ett_dataset(data_dir / \"ETDataset\")):\n",
    "    ts = ts[:int(train_part * len(ts))]\n",
    "    mm_scalers.append(DimUniversalMinMaxScaler())\n",
    "    s_scalers.append(DimUniversalStandardScaler())\n",
    "    mm_scalers[- 1].fit(ts)\n",
    "    s_scalers[- 1].fit(ts)"
   ]
  },
  {
   "cell_type": "code",
   "execution_count": 14,
   "metadata": {},
   "outputs": [
    {
     "data": {
      "image/png": "[encoded data removed]",
      "text/plain": [
       "<Figure size 432x288 with 1 Axes>"
      ]
     },
     "metadata": {
      "needs_background": "light"
     },
     "output_type": "display_data"
    },
    {
     "name": "stdout",
     "output_type": "stream",
     "text": [
      "mae=0.9501726826032003, mse=1.360661452912287\n",
      "mae_snorm=0.23831778854338628, mse_snorm=0.08559687690932734\n",
      "mae_mmnorm=0.028289058796891448, mse_mmnorm=0.0012060963484888992\n"
     ]
    }
   ],
   "source": [
    "horizon_id = 0\n",
    "ts_id = 3\n",
    "sample_id = 0\n",
    "\n",
    "y_true = results[horizon_id][ts_id]['y'][sample_id]\n",
    "preds = results[horizon_id][ts_id]['preds'][sample_id]\n",
    "\n",
    "plt.plot(y_true)\n",
    "plt.plot(preds)\n",
    "plt.legend([\"true\", \"pred\"])\n",
    "plt.show()\n",
    "\n",
    "mae = MAE(preds, y_true)\n",
    "mse = MSE(preds, y_true)\n",
    "print(f\"{mae=}, {mse=}\")\n",
    "\n",
    "preds_snorm, y_true_snorm = map(s_scalers[ts_id].transform, (preds, y_true))\n",
    "mae_snorm = MAE(preds_snorm, y_true_snorm)\n",
    "mse_snorm = MSE(preds_snorm, y_true_snorm)\n",
    "print(f\"{mae_snorm=}, {mse_snorm=}\")\n",
    "\n",
    "preds_mmnorm, y_true_mmnorm = map(mm_scalers[ts_id].transform, (preds, y_true))\n",
    "mae_mmnorm = MAE(preds_mmnorm, y_true_mmnorm)\n",
    "mse_mmnorm = MSE(preds_mmnorm, y_true_mmnorm)\n",
    "print(f\"{mae_mmnorm=}, {mse_mmnorm=}\")"
   ]
  },
  {
   "cell_type": "code",
   "execution_count": 10,
   "metadata": {},
   "outputs": [
    {
     "name": "stdout",
     "output_type": "stream",
     "text": [
      "horizon=96\n",
      "\tMAE_Pure=2.349 MSE_Pure=13.079\n",
      "\tMAE_StandardScaler=0.267 MSE_StandardScaler=0.136\n",
      "\tMAE_MinMaxScaler=0.038 MSE_MinMaxScaler=0.003\n",
      "\tMAPE=29894253.810119715\n",
      "horizon=192\n",
      "\tMAE_Pure=2.631 MSE_Pure=15.554\n",
      "\tMAE_StandardScaler=0.306 MSE_StandardScaler=0.174\n",
      "\tMAE_MinMaxScaler=0.043 MSE_MinMaxScaler=0.004\n",
      "\tMAPE=15987035.116811205\n",
      "horizon=336\n",
      "\tMAE_Pure=2.630 MSE_Pure=16.124\n",
      "\tMAE_StandardScaler=0.302 MSE_StandardScaler=0.174\n",
      "\tMAE_MinMaxScaler=0.043 MSE_MinMaxScaler=0.004\n",
      "\tMAPE=10805359.028182968\n",
      "horizon=720\n",
      "\tMAE_Pure=2.968 MSE_Pure=19.903\n",
      "\tMAE_StandardScaler=0.331 MSE_StandardScaler=0.206\n",
      "\tMAE_MinMaxScaler=0.047 MSE_MinMaxScaler=0.004\n",
      "\tMAPE=26003029.554788586\n"
     ]
    },
    {
     "data": {
      "text/html": [
       "<div>\n",
       "<style scoped>\n",
       "    .dataframe tbody tr th:only-of-type {\n",
       "        vertical-align: middle;\n",
       "    }\n",
       "\n",
       "    .dataframe tbody tr th {\n",
       "        vertical-align: top;\n",
       "    }\n",
       "\n",
       "    .dataframe thead th {\n",
       "        text-align: right;\n",
       "    }\n",
       "</style>\n",
       "<table border=\"1\" class=\"dataframe\">\n",
       "  <thead>\n",
       "    <tr style=\"text-align: right;\">\n",
       "      <th></th>\n",
       "      <th>mae</th>\n",
       "      <th>mse</th>\n",
       "      <th>horizon</th>\n",
       "    </tr>\n",
       "  </thead>\n",
       "  <tbody>\n",
       "    <tr>\n",
       "      <th>0</th>\n",
       "      <td>0.267422</td>\n",
       "      <td>0.136090</td>\n",
       "      <td>96</td>\n",
       "    </tr>\n",
       "    <tr>\n",
       "      <th>1</th>\n",
       "      <td>0.306447</td>\n",
       "      <td>0.174042</td>\n",
       "      <td>192</td>\n",
       "    </tr>\n",
       "    <tr>\n",
       "      <th>2</th>\n",
       "      <td>0.301698</td>\n",
       "      <td>0.174115</td>\n",
       "      <td>336</td>\n",
       "    </tr>\n",
       "    <tr>\n",
       "      <th>3</th>\n",
       "      <td>0.331348</td>\n",
       "      <td>0.206180</td>\n",
       "      <td>720</td>\n",
       "    </tr>\n",
       "  </tbody>\n",
       "</table>\n",
       "</div>"
      ],
      "text/plain": [
       "        mae       mse  horizon\n",
       "0  0.267422  0.136090       96\n",
       "1  0.306447  0.174042      192\n",
       "2  0.301698  0.174115      336\n",
       "3  0.331348  0.206180      720"
      ]
     },
     "execution_count": 10,
     "metadata": {},
     "output_type": "execute_result"
    }
   ],
   "source": [
    "preprocess_funcs_names = [\"Pure\", \"StandardScaler\", \"MinMaxScaler\"]\n",
    "metrics = [MAE, MSE, MAPE]\n",
    "result = []\n",
    "\n",
    "for horizon_id, horizon in enumerate(horizons):\n",
    "    ds_metrics = defaultdict(list)\n",
    "    for ts_id in range(7):\n",
    "        preprocess_funcs = [lambda x: x, s_scalers[ts_id].transform, mm_scalers[ts_id].transform]\n",
    "        for pfunc, pfunc_name in zip(preprocess_funcs, preprocess_funcs_names):\n",
    "            for mid, metric in enumerate(metrics):\n",
    "                ds_metrics[f\"{metric.__name__}_{pfunc_name}\"].append(\n",
    "                    metric(pfunc(results[horizon_id][ts_id][\"preds\"]), pfunc(results[horizon_id][ts_id][\"y\"]))\n",
    "                    )\n",
    "    ds_metrics = {key: np.mean(value) for key, value in ds_metrics.items()}\n",
    "    result.append((ds_metrics[\"MAE_numpy_StandardScaler\"], ds_metrics[\"MSE_numpy_StandardScaler\"], horizon))\n",
    "    print(f\"{horizon=}\")\n",
    "    for pfunc_name in preprocess_funcs_names:\n",
    "        print(f\"\\tMAE_{pfunc_name}={ds_metrics[f'MAE_numpy_{pfunc_name}']:0.3f} MSE_{pfunc_name}={ds_metrics[f'MSE_numpy_{pfunc_name}']:0.3f}\")\n",
    "    print(f\"\\tMAPE={ds_metrics['MAPE_numpy_Pure']}\")\n",
    "\n",
    "result = pd.DataFrame(result, columns=[\"mae\", \"mse\", \"horizon\"])\n",
    "res_path = Path(results_dir / \"ETT\" / \"TD_ETT_norm.csv\")\n",
    "if not res_path.exists():\n",
    "    result.to_csv(res_path, index=False)\n",
    "result"
   ]
  },
  {
   "cell_type": "code",
   "execution_count": null,
   "metadata": {},
   "outputs": [],
   "source": []
  }
 ],
 "metadata": {
  "kernelspec": {
   "display_name": "Python 3",
   "language": "python",
   "name": "python3"
  },
  "language_info": {
   "codemirror_mode": {
    "name": "ipython",
    "version": 3
   },
   "file_extension": ".py",
   "mimetype": "text/x-python",
   "name": "python",
   "nbconvert_exporter": "python",
   "pygments_lexer": "ipython3",
   "version": "3.8.9"
  },
  "orig_nbformat": 4,
  "vscode": {
   "interpreter": {
    "hash": "1289e797c8b2364a1b561fc46768e8fcf8446b2e18e77ab0795c8743ff6ac10a"
   }
  }
 },
 "nbformat": 4,
 "nbformat_minor": 2
}
